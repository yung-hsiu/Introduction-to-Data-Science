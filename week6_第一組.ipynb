{
  "nbformat": 4,
  "nbformat_minor": 0,
  "metadata": {
    "colab": {
      "name": "week6-第一組.ipynb",
      "provenance": [],
      "collapsed_sections": [],
      "include_colab_link": true
    },
    "kernelspec": {
      "name": "python3",
      "display_name": "Python 3"
    }
  },
  "cells": [
    {
      "cell_type": "markdown",
      "metadata": {
        "id": "view-in-github",
        "colab_type": "text"
      },
      "source": [
        "<a href=\"https://colab.research.google.com/github/yung-hsiu/Introduction-to-Data-Science/blob/master/week6_%E7%AC%AC%E4%B8%80%E7%B5%84.ipynb\" target=\"_parent\"><img src=\"https://colab.research.google.com/assets/colab-badge.svg\" alt=\"Open In Colab\"/></a>"
      ]
    },
    {
      "cell_type": "code",
      "metadata": {
        "id": "3Zzg6yO0WoOH",
        "colab_type": "code",
        "outputId": "a32f3424-c844-44c4-edf9-bdd33a93ee66",
        "colab": {
          "base_uri": "https://localhost:8080/",
          "height": 102
        }
      },
      "source": [
        "第一次期中成績=int(input('輸入第一次期中成績?'))\n",
        "第二次期中成績=int(input('輸入第二次期中成績?'))\n",
        "期末考成績=int(input('輸入第期末考成績?'))\n",
        "\n",
        "總分=第一次期中成績+第二次期中成績+期末考成績\n",
        "平均=(第一次期中成績+第二次期中成績+期末考成績)/3\n",
        "\n",
        "print('三次成績的總分為',總分)\n",
        "print('三次成績平均為',平均)"
      ],
      "execution_count": 0,
      "outputs": [
        {
          "output_type": "stream",
          "text": [
            "輸入第一次期中成績?75\n",
            "輸入第二次期中成績?80\n",
            "輸入第期末考成績?65\n",
            "三次成績的總分為 220\n",
            "三次成績平均為 73.33333333333333\n"
          ],
          "name": "stdout"
        }
      ]
    },
    {
      "cell_type": "code",
      "metadata": {
        "id": "W4Ib68VYbZ88",
        "colab_type": "code",
        "outputId": "c2e9e4c7-e0a0-4731-ddc7-13046e647bb7",
        "colab": {
          "base_uri": "https://localhost:8080/",
          "height": 68
        }
      },
      "source": [
        "尺=int(input('請輸入幾尺？'))\n",
        "吋=int(input('請輸入幾吋?'))\n",
        "\n",
        "轉換公式=(5*12+8)*2.54\n",
        "print('轉換成',轉換公式,'公分')"
      ],
      "execution_count": 0,
      "outputs": [
        {
          "output_type": "stream",
          "text": [
            "請輸入幾尺？5\n",
            "請輸入幾吋?8\n",
            "轉換成 172.72 公分\n"
          ],
          "name": "stdout"
        }
      ]
    },
    {
      "cell_type": "code",
      "metadata": {
        "id": "SkduIiRagiWY",
        "colab_type": "code",
        "outputId": "391adf3e-ed8b-4d1a-e05f-0f747d098613",
        "colab": {
          "base_uri": "https://localhost:8080/",
          "height": 51
        }
      },
      "source": [
        "import math\n",
        "number=int(input(\"請輸入座號？\"))\n",
        "x=number\n",
        "y=x/5\n",
        "group=math.ceil(y)\n",
        "print(\"組別為\",group)\n"
      ],
      "execution_count": 0,
      "outputs": [
        {
          "output_type": "stream",
          "text": [
            "請輸入座號？19\n",
            "組別為 4\n"
          ],
          "name": "stdout"
        }
      ]
    },
    {
      "cell_type": "code",
      "metadata": {
        "id": "3Ovw6_mccp1Y",
        "colab_type": "code",
        "outputId": "1dd872aa-04ef-4ab1-c0d2-b2a79a9340ba",
        "colab": {
          "base_uri": "https://localhost:8080/",
          "height": 68
        }
      },
      "source": [
        "\n",
        "drink=int(input('請輸入購買飲料的罐數?'))\n",
        "dozen=drink/12\n",
        "dozen_part=int(dozen)\n",
        "\n",
        "can=drink%12\n",
        "\n",
        "money_dozen=dozen_part*200\n",
        "money_can=can*20\n",
        "x=money_dozen+money_can\n",
        "\n",
        "print(\"需花費\")\n",
        "print(x)\n"
      ],
      "execution_count": 0,
      "outputs": [
        {
          "output_type": "stream",
          "text": [
            "請輸入購買飲料的罐數?30\n",
            "需花費\n",
            "520\n"
          ],
          "name": "stdout"
        }
      ]
    },
    {
      "cell_type": "code",
      "metadata": {
        "id": "TSC4yPPlwnlX",
        "colab_type": "code",
        "outputId": "fee90350-089a-4105-f860-ea1e28c633d3",
        "colab": {
          "base_uri": "https://localhost:8080/",
          "height": 153
        }
      },
      "source": [
        "\n",
        "print(\"1KB=\",2**10,\"Byte\")\n",
        "print(\"1MB=\",2**20,\"Byte\")\n",
        "print(\"1GB=\",2**30,\"Byte\")\n",
        "print(\"1TB=\",2**40,\"Byte\")\n",
        "print(\"1PB=\",2**50,\"Byte\")\n",
        "print(\"1EB=\",2**60,\"Byte\")\n",
        "print(\"1ZB=\",2**70,\"Byte\")\n",
        "print(\"1YB=\",2**80,\"Byte\")\n"
      ],
      "execution_count": 0,
      "outputs": [
        {
          "output_type": "stream",
          "text": [
            "1KB= 1024 Byte\n",
            "1MB= 1048576 Byte\n",
            "1GB= 1073741824 Byte\n",
            "1TB= 1099511627776 Byte\n",
            "1PB= 1125899906842624 Byte\n",
            "1EB= 1152921504606846976 Byte\n",
            "1ZB= 1180591620717411303424 Byte\n",
            "1YB= 1208925819614629174706176 Byte\n"
          ],
          "name": "stdout"
        }
      ]
    },
    {
      "cell_type": "code",
      "metadata": {
        "id": "OprkgASvRypg",
        "colab_type": "code",
        "outputId": "814fa18f-6079-4d78-c97f-27776415dc43",
        "colab": {
          "base_uri": "https://localhost:8080/",
          "height": 85
        }
      },
      "source": [
        "test=input(\"請輸入一行英文句子?\")\n",
        "print(\"將英文句子以空白字元切割後，獲得單字為\",test.split(\" \"))\n",
        "print(\"以空白字元結合所有單字後,獲得句子為\",test)\n",
        "print(\"將每個單字字首轉大寫後,獲得句子為\",test.title())"
      ],
      "execution_count": 0,
      "outputs": [
        {
          "output_type": "stream",
          "text": [
            "請輸入一行英文句子?an apple a day keeps the doctor away\n",
            "將英文句子以空白字元切割後，獲得單字為 ['an', 'apple', 'a', 'day', 'keeps', 'the', 'doctor', 'away']\n",
            "以空白字元結合所有單字後,獲得句子為 an apple a day keeps the doctor away\n",
            "將每個單字字首轉大寫後,獲得句子為 An Apple A Day Keeps The Doctor Away\n"
          ],
          "name": "stdout"
        }
      ]
    }
  ]
}