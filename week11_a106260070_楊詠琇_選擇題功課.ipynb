{
  "nbformat": 4,
  "nbformat_minor": 0,
  "metadata": {
    "colab": {
      "name": "week11-a106260070-楊詠琇-選擇題功課.ipynb",
      "provenance": [],
      "include_colab_link": true
    },
    "kernelspec": {
      "name": "python3",
      "display_name": "Python 3"
    }
  },
  "cells": [
    {
      "cell_type": "markdown",
      "metadata": {
        "id": "view-in-github",
        "colab_type": "text"
      },
      "source": [
        "<a href=\"https://colab.research.google.com/github/yung-hsiu/Introduction-to-Data-Science/blob/master/week11_a106260070_%E6%A5%8A%E8%A9%A0%E7%90%87_%E9%81%B8%E6%93%87%E9%A1%8C%E5%8A%9F%E8%AA%B2.ipynb\" target=\"_parent\"><img src=\"https://colab.research.google.com/assets/colab-badge.svg\" alt=\"Open In Colab\"/></a>"
      ]
    },
    {
      "cell_type": "code",
      "metadata": {
        "id": "E__KEu1qtPeG",
        "colab_type": "code",
        "colab": {}
      },
      "source": [
        "#選擇題\n",
        "1 ( A )：如果有⼀個整數變數x，當執⾏type(x)後可以得到什麼傳回值?\n",
        "A：int  B：float  C：str  D：bool\n",
        "\n",
        "2(B)如果有⼀個浮點數變數x，當執⾏type(x)後可以得到什麼傳回值?\n",
        "A：int  B：float  C：str  D：array\n",
        "\n",
        "3 (D )如果有⼀個布林值變數x，當執⾏type(x)後可以得到什麼傳回值?\n",
        "A：int  B：float  C：str  D：bool\n"
      ],
      "execution_count": 0,
      "outputs": []
    }
  ]
}