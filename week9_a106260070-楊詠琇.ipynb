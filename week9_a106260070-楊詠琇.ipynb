{
  "nbformat": 4,
  "nbformat_minor": 0,
  "metadata": {
    "colab": {
      "name": "week9-a106260070.ipynb",
      "provenance": [],
      "include_colab_link": true
    },
    "kernelspec": {
      "name": "python3",
      "display_name": "Python 3"
    }
  },
  "cells": [
    {
      "cell_type": "markdown",
      "metadata": {
        "id": "view-in-github",
        "colab_type": "text"
      },
      "source": [
        "<a href=\"https://colab.research.google.com/github/yung-hsiu/Introduction-to-Data-Science/blob/master/week9_a106260070.ipynb\" target=\"_parent\"><img src=\"https://colab.research.google.com/assets/colab-badge.svg\" alt=\"Open In Colab\"/></a>"
      ]
    },
    {
      "cell_type": "code",
      "metadata": {
        "id": "B8pdzcaNei_D",
        "colab_type": "code",
        "outputId": "e4f4a11f-f10b-45bb-d7db-83cc3d9db5ca",
        "colab": {
          "base_uri": "https://localhost:8080/",
          "height": 51
        }
      },
      "source": [
        "score=int(input('請輸入⼀個成績？'))\n",
        "if score>=60:\n",
        "  print('很好，請繼續保持下去')"
      ],
      "execution_count": 0,
      "outputs": [
        {
          "output_type": "stream",
          "text": [
            "請輸入⼀個成績？60\n",
            "很好，請繼續保持下去\n"
          ],
          "name": "stdout"
        }
      ]
    },
    {
      "cell_type": "code",
      "metadata": {
        "id": "8DqQIVlYgghS",
        "colab_type": "code",
        "outputId": "1cf3aced-b6fa-42a5-c664-3a1db4afde6d",
        "colab": {
          "base_uri": "https://localhost:8080/",
          "height": 131
        }
      },
      "source": [
        "score=int(input(\"請輸入⼀個成績？\"))\n",
        "if score>=60:\n",
        "  print('有及格ㄡ～')\n",
        "  else:\n",
        "    print('不及格ㄟ！')"
      ],
      "execution_count": 0,
      "outputs": [
        {
          "output_type": "error",
          "ename": "SyntaxError",
          "evalue": "ignored",
          "traceback": [
            "\u001b[0;36m  File \u001b[0;32m\"<ipython-input-3-29e32411f493>\"\u001b[0;36m, line \u001b[0;32m4\u001b[0m\n\u001b[0;31m    else:\u001b[0m\n\u001b[0m       ^\u001b[0m\n\u001b[0;31mSyntaxError\u001b[0m\u001b[0;31m:\u001b[0m invalid syntax\n"
          ]
        }
      ]
    },
    {
      "cell_type": "code",
      "metadata": {
        "id": "N0LJOZJThV6a",
        "colab_type": "code",
        "outputId": "208f257b-d9d9-47aa-c572-afb7906e2bcf",
        "colab": {
          "base_uri": "https://localhost:8080/",
          "height": 68
        }
      },
      "source": [
        "x=float(input('請輸入該點的X座標？'))\n",
        "y = float(input('請輸入該點的Y座標？'))\n",
        "if(x>0):\n",
        "  if(y>0):\n",
        "    print('該點在第⼀象限')\n",
        "  else:\n",
        "    print('該點在第⼀象限')  \n",
        "else:\n",
        "  if(y>0):\n",
        "    print('該點在第⼆象限')\n",
        "  else:\n",
        "    print('該點在第三象限')\n",
        "    \n"
      ],
      "execution_count": 0,
      "outputs": [
        {
          "output_type": "stream",
          "text": [
            "請輸入該點的X座標？1\n",
            "請輸入該點的Y座標？1\n",
            "該點在第⼀象限\n"
          ],
          "name": "stdout"
        }
      ]
    },
    {
      "cell_type": "code",
      "metadata": {
        "id": "eLIygJ8kk8Jm",
        "colab_type": "code",
        "colab": {}
      },
      "source": [
        "m=3000\n",
        "if m>=2000"
      ],
      "execution_count": 0,
      "outputs": []
    }
  ]
}
