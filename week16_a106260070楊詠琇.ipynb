{
  "nbformat": 4,
  "nbformat_minor": 0,
  "metadata": {
    "colab": {
      "name": "week16-a106260070楊詠琇.ipynb",
      "provenance": [],
      "include_colab_link": true
    },
    "kernelspec": {
      "name": "python3",
      "display_name": "Python 3"
    }
  },
  "cells": [
    {
      "cell_type": "markdown",
      "metadata": {
        "id": "view-in-github",
        "colab_type": "text"
      },
      "source": [
        "<a href=\"https://colab.research.google.com/github/yung-hsiu/Introduction-to-Data-Science/blob/master/week16_a106260070%E6%A5%8A%E8%A9%A0%E7%90%87.ipynb\" target=\"_parent\"><img src=\"https://colab.research.google.com/assets/colab-badge.svg\" alt=\"Open In Colab\"/></a>"
      ]
    },
    {
      "cell_type": "code",
      "metadata": {
        "id": "Am67HUnXuQWm",
        "colab_type": "code",
        "outputId": "5bb2b44c-096c-4321-80e1-91e100cae5b5",
        "colab": {
          "base_uri": "https://localhost:8080/",
          "height": 51
        }
      },
      "source": [
        "#無窮迴圈_輸入密碼\n",
        "answer=\"a123\"\n",
        "\n",
        "while True:\n",
        "  password=input(\"enter your password?\")\n",
        "  if password == answer:\n",
        "    print(\"ENTER THE SYSTEN\")\n",
        "    break\n",
        "  else:\n",
        "    print(\"try again\")"
      ],
      "execution_count": 0,
      "outputs": [
        {
          "output_type": "stream",
          "text": [
            "enter your password?a123\n",
            "ENTER THE SYSTEN\n"
          ],
          "name": "stdout"
        }
      ]
    },
    {
      "cell_type": "code",
      "metadata": {
        "id": "cV2bp54swFUh",
        "colab_type": "code",
        "outputId": "08f21c3d-a185-4c64-f046-6b323ada2b2c",
        "colab": {
          "base_uri": "https://localhost:8080/",
          "height": 68
        }
      },
      "source": [
        "#無窮迴圈_設計帳號\n",
        "\n",
        "while True:\n",
        "  account=input(\"輸入帳號?\")\n",
        "  answer=input(\"輸入密碼?\")\n",
        "  if(account==\"a106260070\" and answer==\"12345\"):\n",
        "    print(\"密碼正確\")\n",
        "    break\n",
        "  else:\n",
        "    print(\"密碼錯誤\")"
      ],
      "execution_count": 0,
      "outputs": [
        {
          "output_type": "stream",
          "text": [
            "輸入帳號?a106260070\n",
            "輸入密碼?12345\n",
            "密碼正確\n"
          ],
          "name": "stdout"
        }
      ]
    },
    {
      "cell_type": "code",
      "metadata": {
        "id": "S3Pe_a0TylxD",
        "colab_type": "code",
        "outputId": "1ee07ef7-5415-4817-eed6-d88c7290f269",
        "colab": {
          "base_uri": "https://localhost:8080/",
          "height": 34
        }
      },
      "source": [
        "#range 為python的內建函數 表示清單(串列)產生器\n",
        "\n",
        "range(5)#[0,1,2,3,4]\n",
        "range(3)#[0,1,2]\n",
        "\n",
        "range(2,5)#[2,3,4]\n",
        "range(8,10)#[8,9]\n",
        "\n",
        "range(2,10,3)#[2,5,8]\n",
        "\n",
        "\n"
      ],
      "execution_count": 0,
      "outputs": [
        {
          "output_type": "execute_result",
          "data": {
            "text/plain": [
              "range(2, 10, 3)"
            ]
          },
          "metadata": {
            "tags": []
          },
          "execution_count": 16
        }
      ]
    },
    {
      "cell_type": "code",
      "metadata": {
        "id": "fGi3XrUx4o7M",
        "colab_type": "code",
        "outputId": "218d8fd7-2fd7-4514-d503-223ba1f36c95",
        "colab": {
          "base_uri": "https://localhost:8080/",
          "height": 204
        }
      },
      "source": [
        "#for迴圈\n",
        "\n",
        "for i in range(5): #range和for計數迴圈搭配\n",
        "  print(i)\n",
        "\n",
        "for i in range(2,5):\n",
        "  print(i)\n",
        "  \n",
        "for i in range(2,10,3):\n",
        "  print(i)"
      ],
      "execution_count": 0,
      "outputs": [
        {
          "output_type": "stream",
          "text": [
            "0\n",
            "1\n",
            "2\n",
            "3\n",
            "4\n",
            "2\n",
            "3\n",
            "4\n",
            "2\n",
            "5\n",
            "8\n"
          ],
          "name": "stdout"
        }
      ]
    },
    {
      "cell_type": "code",
      "metadata": {
        "id": "yo92ZY4j48RL",
        "colab_type": "code",
        "colab": {}
      },
      "source": [
        ""
      ],
      "execution_count": 0,
      "outputs": []
    }
  ]
}