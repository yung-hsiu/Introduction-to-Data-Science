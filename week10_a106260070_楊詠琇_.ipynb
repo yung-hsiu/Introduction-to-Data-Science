{
  "nbformat": 4,
  "nbformat_minor": 0,
  "metadata": {
    "colab": {
      "name": "week10_a106260070-楊詠琇-.ipynb",
      "provenance": [],
      "include_colab_link": true
    },
    "kernelspec": {
      "name": "python3",
      "display_name": "Python 3"
    }
  },
  "cells": [
    {
      "cell_type": "markdown",
      "metadata": {
        "id": "view-in-github",
        "colab_type": "text"
      },
      "source": [
        "<a href=\"https://colab.research.google.com/github/yung-hsiu/Introduction-to-Data-Science/blob/master/week10_a106260070_%E6%A5%8A%E8%A9%A0%E7%90%87_.ipynb\" target=\"_parent\"><img src=\"https://colab.research.google.com/assets/colab-badge.svg\" alt=\"Open In Colab\"/></a>"
      ]
    },
    {
      "cell_type": "code",
      "metadata": {
        "id": "ASvR77InUPol",
        "colab_type": "code",
        "outputId": "b18a4b29-0064-42c6-f411-3cef7a618aa9",
        "colab": {
          "base_uri": "https://localhost:8080/",
          "height": 68
        }
      },
      "source": [
        "import random\n",
        "my = int(input(\"請出拳 [0] 剪⼑ [1] ⽯頭 [2] 布\"))\n",
        "print(\"我出拳為\", my)\n",
        "computer = random.randint(0, 2)\n",
        "print(\"電腦出拳為\", computer)"
      ],
      "execution_count": 0,
      "outputs": [
        {
          "output_type": "stream",
          "text": [
            "請出拳 [0] 剪⼑ [1] ⽯頭 [2] 布1\n",
            "我出拳為 1\n",
            "電腦出拳為 1\n"
          ],
          "name": "stdout"
        }
      ]
    },
    {
      "cell_type": "code",
      "metadata": {
        "id": "OXFbmfTIgipS",
        "colab_type": "code",
        "outputId": "75f1b3b6-3b52-4fc0-b272-507597871516",
        "colab": {
          "base_uri": "https://localhost:8080/",
          "height": 34
        }
      },
      "source": [
        "if my == 0:\n",
        "        if computer == 0:\n",
        "            print('平手')\n",
        "        elif computer == 1:\n",
        "            print('電腦獲勝')\n",
        "        else:\n",
        "            print('玩家獲勝')\n",
        "elif my == 1:\n",
        "        if computer == 0:\n",
        "            print('玩家獲勝')\n",
        "        elif computer == 1:\n",
        "            print('平手')\n",
        "        else:\n",
        "            print('電腦獲勝')\n",
        "else:\n",
        "        if computer == 1:\n",
        "            print('電腦獲勝')\n",
        "        elif computer == 2:\n",
        "            print('玩家獲勝')\n",
        "        else:\n",
        "            print('平手')\n",
        "    "
      ],
      "execution_count": 0,
      "outputs": [
        {
          "output_type": "stream",
          "text": [
            "平手\n"
          ],
          "name": "stdout"
        }
      ]
    },
    {
      "cell_type": "code",
      "metadata": {
        "id": "p0Vr1COkiA8K",
        "colab_type": "code",
        "outputId": "01676b9c-71c5-4f63-9b68-aea1513012fa",
        "colab": {
          "base_uri": "https://localhost:8080/",
          "height": 68
        }
      },
      "source": [
        "import random\n",
        "my_choice = int(input(\"請出拳 [0] 剪刀 [1] 石頭 [2] 布\"))\n",
        "print(\"我出拳為\", my_choice)\n",
        "com_choice = random.randint(0, 2)\n",
        "print(\"電腦出拳為\", com_choice)"
      ],
      "execution_count": 0,
      "outputs": [
        {
          "output_type": "stream",
          "text": [
            "請出拳 [0] 剪刀 [1] 石頭 [2] 布1\n",
            "我出拳為 1\n",
            "電腦出拳為 1\n"
          ],
          "name": "stdout"
        }
      ]
    },
    {
      "cell_type": "code",
      "metadata": {
        "id": "6cEJ3nxNiLao",
        "colab_type": "code",
        "outputId": "aed5494a-b458-4700-c03e-595318af7db4",
        "colab": {
          "base_uri": "https://localhost:8080/",
          "height": 34
        }
      },
      "source": [
        "if my_choice == (com_choice + 1) % 3:\n",
        "     print(\"我贏了\")\n",
        "elif my_choice == com_choice:\n",
        "     print(\"平手\")\n",
        "else:\n",
        "     print(\"我輸了\")"
      ],
      "execution_count": 0,
      "outputs": [
        {
          "output_type": "stream",
          "text": [
            "平手\n"
          ],
          "name": "stdout"
        }
      ]
    },
    {
      "cell_type": "code",
      "metadata": {
        "id": "6s5tKoFiiROV",
        "colab_type": "code",
        "outputId": "d1b54dd4-b1e3-4eb0-b5ed-c0955fe92f7b",
        "colab": {
          "base_uri": "https://localhost:8080/",
          "height": 68
        }
      },
      "source": [
        "import random\n",
        "my_choice = int(input(\"請出拳 [0] 蟲 [1] 雞 [2] 老虎 [3] 棒子\"))\n",
        "print(\"你出的拳:\", my_choice)\n",
        "\n",
        "com_choice = random.randint(0, 3)\n",
        "print(\"電腦出拳為\", com_choice)"
      ],
      "execution_count": 0,
      "outputs": [
        {
          "output_type": "stream",
          "text": [
            "請出拳 [0] 蟲 [1] 雞 [2] 老虎 [3] 棒子1\n",
            "你出的拳: 1\n",
            "電腦出拳為 1\n"
          ],
          "name": "stdout"
        }
      ]
    },
    {
      "cell_type": "code",
      "metadata": {
        "id": "VWAk6Hs_icRI",
        "colab_type": "code",
        "outputId": "70dc4fe3-ed60-4b48-e8fa-4decfc6d5139",
        "colab": {
          "base_uri": "https://localhost:8080/",
          "height": 34
        }
      },
      "source": [
        "if my_choice == (com_choice + 1) % 4:\n",
        "    print(\"我贏了\")\n",
        "elif com_choice == (my_choice + 1) % 4:\n",
        "    print(\"電腦贏了\")\n",
        "else:\n",
        "    print(\"平手\")"
      ],
      "execution_count": 0,
      "outputs": [
        {
          "output_type": "stream",
          "text": [
            "平手\n"
          ],
          "name": "stdout"
        }
      ]
    },
    {
      "cell_type": "code",
      "metadata": {
        "id": "yS82_aAakqzG",
        "colab_type": "code",
        "outputId": "aa332e2c-364c-410e-d362-994a540d49be",
        "colab": {
          "base_uri": "https://localhost:8080/",
          "height": 51
        }
      },
      "source": [
        "eye = float(input(\"請輸入近視測量值?\"))\n",
        "if eye<0.9:\n",
        "  print(\"有近視\")\n",
        "else:\n",
        "  print(\"視力正常\")"
      ],
      "execution_count": 0,
      "outputs": [
        {
          "output_type": "stream",
          "text": [
            "請輸入近視測量值?0.8\n",
            "有近視\n"
          ],
          "name": "stdout"
        }
      ]
    },
    {
      "cell_type": "code",
      "metadata": {
        "id": "QPXGhMK7l--j",
        "colab_type": "code",
        "outputId": "a52bb858-9c98-46fb-a5ea-ff52c686c737",
        "colab": {
          "base_uri": "https://localhost:8080/",
          "height": 51
        }
      },
      "source": [
        "year=int(input(\"請輸入年分?\"))\n",
        "if ((year%400)==0):\n",
        "  print(year,\"是閩年\")\n",
        "elif((year%100)==0):\n",
        "  print(year,\"不是閩年\")\n",
        "elif ((year%4)==0):\n",
        "  print(year,\"是閩年\")\n",
        "else:\n",
        "  print(year,\"不是閩年\")"
      ],
      "execution_count": 0,
      "outputs": [
        {
          "output_type": "stream",
          "text": [
            "請輸入年分?2012\n",
            "2012 是閩年\n"
          ],
          "name": "stdout"
        }
      ]
    },
    {
      "cell_type": "code",
      "metadata": {
        "id": "A8yrGnD8nmzp",
        "colab_type": "code",
        "colab": {}
      },
      "source": [
        ""
      ],
      "execution_count": 0,
      "outputs": []
    }
  ]
}