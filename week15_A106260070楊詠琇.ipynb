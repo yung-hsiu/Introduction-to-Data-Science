{
  "nbformat": 4,
  "nbformat_minor": 0,
  "metadata": {
    "colab": {
      "name": "week15-A106260070楊詠琇.ipynb",
      "provenance": [],
      "include_colab_link": true
    },
    "kernelspec": {
      "name": "python3",
      "display_name": "Python 3"
    }
  },
  "cells": [
    {
      "cell_type": "markdown",
      "metadata": {
        "id": "view-in-github",
        "colab_type": "text"
      },
      "source": [
        "<a href=\"https://colab.research.google.com/github/yung-hsiu/Introduction-to-Data-Science/blob/master/week15_A106260070%E6%A5%8A%E8%A9%A0%E7%90%87.ipynb\" target=\"_parent\"><img src=\"https://colab.research.google.com/assets/colab-badge.svg\" alt=\"Open In Colab\"/></a>"
      ]
    },
    {
      "cell_type": "code",
      "metadata": {
        "id": "NNgr79qspgbw",
        "colab_type": "code",
        "outputId": "acc7b515-0f27-4e21-e684-4a48c06e1199",
        "colab": {
          "base_uri": "https://localhost:8080/",
          "height": 102
        }
      },
      "source": [
        "n=1\n",
        "while n<5:\n",
        "  print(\"n is :\",n )\n",
        "  n=n+1\n",
        "print(\"Finished\")"
      ],
      "execution_count": 0,
      "outputs": [
        {
          "output_type": "stream",
          "text": [
            "n is : 1\n",
            "n is : 2\n",
            "n is : 3\n",
            "n is : 4\n",
            "Finished\n"
          ],
          "name": "stdout"
        }
      ]
    },
    {
      "cell_type": "code",
      "metadata": {
        "id": "cfRFIadHqh9r",
        "colab_type": "code",
        "outputId": "285dba12-b8ad-47c6-81f4-349bbd28672b",
        "colab": {
          "base_uri": "https://localhost:8080/",
          "height": 187
        }
      },
      "source": [
        "x=0\n",
        "while x<10:\n",
        "  print(\"Monkichi\")\n",
        "  x=x+1"
      ],
      "execution_count": 0,
      "outputs": [
        {
          "output_type": "stream",
          "text": [
            "Monkichi\n",
            "Monkichi\n",
            "Monkichi\n",
            "Monkichi\n",
            "Monkichi\n",
            "Monkichi\n",
            "Monkichi\n",
            "Monkichi\n",
            "Monkichi\n",
            "Monkichi\n"
          ],
          "name": "stdout"
        }
      ]
    },
    {
      "cell_type": "code",
      "metadata": {
        "id": "yLjGImHaq-2c",
        "colab_type": "code",
        "outputId": "dd4e003e-cb96-4c4d-86a1-3d0ba854a41c",
        "colab": {
          "base_uri": "https://localhost:8080/",
          "height": 187
        }
      },
      "source": [
        "times=1\n",
        "while times<11:\n",
        "  print(\"THIS IS NO.\",times,\"Monkichi\")\n",
        "  times=times+1"
      ],
      "execution_count": 0,
      "outputs": [
        {
          "output_type": "stream",
          "text": [
            "THIS IS NO. 1 Monkichi\n",
            "THIS IS NO. 2 Monkichi\n",
            "THIS IS NO. 3 Monkichi\n",
            "THIS IS NO. 4 Monkichi\n",
            "THIS IS NO. 5 Monkichi\n",
            "THIS IS NO. 6 Monkichi\n",
            "THIS IS NO. 7 Monkichi\n",
            "THIS IS NO. 8 Monkichi\n",
            "THIS IS NO. 9 Monkichi\n",
            "THIS IS NO. 10 Monkichi\n"
          ],
          "name": "stdout"
        }
      ]
    },
    {
      "cell_type": "code",
      "metadata": {
        "id": "6SPqNbuzrj1T",
        "colab_type": "code",
        "outputId": "f922c5ab-f7f9-456d-e54e-75cebe0f43b5",
        "colab": {
          "base_uri": "https://localhost:8080/",
          "height": 34
        }
      },
      "source": [
        "x=0\n",
        "result=0\n",
        "\n",
        "while x<10:\n",
        "  x=x+1\n",
        "  result=result + x\n",
        "print(\"the answer is\",result)"
      ],
      "execution_count": 0,
      "outputs": [
        {
          "output_type": "stream",
          "text": [
            "the answer is 55\n"
          ],
          "name": "stdout"
        }
      ]
    },
    {
      "cell_type": "code",
      "metadata": {
        "id": "Kx0XWbphsTif",
        "colab_type": "code",
        "outputId": "5aed5e70-f0f6-4df0-9524-9bb44fea08d9",
        "colab": {
          "base_uri": "https://localhost:8080/",
          "height": 34
        }
      },
      "source": [
        "x=0\n",
        "result=0\n",
        "while result<=50:\n",
        "  x=x+1\n",
        "  result=result+x\n",
        "print(\"the last x is\",x)"
      ],
      "execution_count": 0,
      "outputs": [
        {
          "output_type": "stream",
          "text": [
            "the last x is 10\n"
          ],
          "name": "stdout"
        }
      ]
    },
    {
      "cell_type": "code",
      "metadata": {
        "id": "j--yIU_iswmH",
        "colab_type": "code",
        "outputId": "5bb56c69-8530-4a41-8ceb-26c543eb4d0a",
        "colab": {
          "base_uri": "https://localhost:8080/",
          "height": 34
        }
      },
      "source": [
        "sum=0\n",
        "x=1\n",
        "while x<10:\n",
        "  sum=sum+x\n",
        "  x=x+2\n",
        "print(\"the answer is \",sum)"
      ],
      "execution_count": 0,
      "outputs": [
        {
          "output_type": "stream",
          "text": [
            "the answer is  25\n"
          ],
          "name": "stdout"
        }
      ]
    },
    {
      "cell_type": "code",
      "metadata": {
        "id": "CsXePVD_tTTa",
        "colab_type": "code",
        "outputId": "6be27b58-d02e-4e5b-8db8-aba899a65a8d",
        "colab": {
          "base_uri": "https://localhost:8080/",
          "height": 34
        }
      },
      "source": [
        "sum=0\n",
        "x=0\n",
        "while sum <=1000:\n",
        "  x+=1\n",
        "  sum+=x*x\n",
        "print('the answer is ',x)"
      ],
      "execution_count": 0,
      "outputs": [
        {
          "output_type": "stream",
          "text": [
            "the answer is  14\n"
          ],
          "name": "stdout"
        }
      ]
    },
    {
      "cell_type": "code",
      "metadata": {
        "id": "MvbGAB4JtvU7",
        "colab_type": "code",
        "colab": {}
      },
      "source": [
        ""
      ],
      "execution_count": 0,
      "outputs": []
    }
  ]
}